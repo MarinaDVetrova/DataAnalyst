{
 "cells": [
  {
   "cell_type": "markdown",
   "id": "386f2ae7",
   "metadata": {
    "deletable": false,
    "editable": false,
    "id": "386f2ae7"
   },
   "source": [
    "# Исследование надежности заемщиков\n"
   ]
  },
  {
   "cell_type": "markdown",
   "id": "ffe86f65",
   "metadata": {
    "deletable": false,
    "editable": false,
    "id": "ffe86f65"
   },
   "source": [
    "Во второй части проекта вы выполните шаги 3 и 4. Их вручную проверит ревьюер.\n",
    "Чтобы вам не пришлось писать код заново для шагов 1 и 2, мы добавили авторские решения в ячейки с кодом. \n",
    "\n"
   ]
  },
  {
   "cell_type": "markdown",
   "id": "26613308",
   "metadata": {
    "deletable": false,
    "editable": false,
    "id": "26613308"
   },
   "source": [
    "## Откройте таблицу и изучите общую информацию о данных"
   ]
  },
  {
   "cell_type": "markdown",
   "id": "3c9f838e",
   "metadata": {
    "deletable": false,
    "editable": false,
    "id": "3c9f838e"
   },
   "source": [
    "**Задание 1. Импортируйте библиотеку pandas. Считайте данные из csv-файла в датафрейм и сохраните в переменную `data`. Путь к файлу:**\n",
    "\n",
    "`/datasets/data.csv`"
   ]
  },
  {
   "cell_type": "code",
   "execution_count": 1,
   "id": "77a68a90",
   "metadata": {
    "deletable": false,
    "id": "77a68a90"
   },
   "outputs": [
    {
     "ename": "ModuleNotFoundError",
     "evalue": "No module named 'pandas'",
     "output_type": "error",
     "traceback": [
      "\u001b[1;31m---------------------------------------------------------------------------\u001b[0m",
      "\u001b[1;31mModuleNotFoundError\u001b[0m                       Traceback (most recent call last)",
      "Cell \u001b[1;32mIn[1], line 1\u001b[0m\n\u001b[1;32m----> 1\u001b[0m \u001b[38;5;28;01mimport\u001b[39;00m \u001b[38;5;21;01mpandas\u001b[39;00m \u001b[38;5;28;01mas\u001b[39;00m \u001b[38;5;21;01mpd\u001b[39;00m\n\u001b[0;32m      3\u001b[0m \u001b[38;5;28;01mtry\u001b[39;00m:\n\u001b[0;32m      4\u001b[0m     data \u001b[38;5;241m=\u001b[39m pd\u001b[38;5;241m.\u001b[39mread_csv(\u001b[38;5;124m'\u001b[39m\u001b[38;5;124m/datasets/data.csv\u001b[39m\u001b[38;5;124m'\u001b[39m)\n",
      "\u001b[1;31mModuleNotFoundError\u001b[0m: No module named 'pandas'"
     ]
    }
   ],
   "source": [
    "import pandas as pd\n",
    "\n",
    "try:\n",
    "    data = pd.read_csv('/datasets/data.csv')\n",
    "except:\n",
    "    data = pd.read_csv('https://code.s3.yandex.net/datasets/data.csv')"
   ]
  },
  {
   "cell_type": "markdown",
   "id": "45365635",
   "metadata": {
    "deletable": false,
    "editable": false,
    "id": "45365635"
   },
   "source": [
    "**Задание 2. Выведите первые 20 строчек датафрейма `data` на экран.**"
   ]
  },
  {
   "cell_type": "code",
   "execution_count": null,
   "id": "b0451a9a",
   "metadata": {
    "deletable": false,
    "id": "b0451a9a",
    "outputId": "1a8f3ef2-d323-4ec2-ddf7-89670b5944c4"
   },
   "outputs": [],
   "source": [
    "data.head(20)"
   ]
  },
  {
   "cell_type": "markdown",
   "id": "0ed8f27f",
   "metadata": {
    "deletable": false,
    "editable": false,
    "id": "0ed8f27f"
   },
   "source": [
    "**Задание 3. Выведите основную информацию о датафрейме с помощью метода `info()`.**"
   ]
  },
  {
   "cell_type": "code",
   "execution_count": null,
   "id": "ab3f863b",
   "metadata": {
    "deletable": false,
    "id": "ab3f863b",
    "outputId": "15376089-8dad-46c9-b520-c05248d43158"
   },
   "outputs": [],
   "source": [
    "data.info()"
   ]
  },
  {
   "cell_type": "markdown",
   "id": "60e3e22d",
   "metadata": {
    "deletable": false,
    "editable": false,
    "id": "60e3e22d"
   },
   "source": [
    "## Предобработка данных"
   ]
  },
  {
   "cell_type": "markdown",
   "id": "03dc170c",
   "metadata": {
    "deletable": false,
    "editable": false,
    "id": "03dc170c"
   },
   "source": [
    "### Удаление пропусков"
   ]
  },
  {
   "cell_type": "markdown",
   "id": "a4f54eef",
   "metadata": {
    "deletable": false,
    "editable": false,
    "id": "a4f54eef"
   },
   "source": [
    "**Задание 4. Выведите количество пропущенных значений для каждого столбца. Используйте комбинацию двух методов.**"
   ]
  },
  {
   "cell_type": "code",
   "execution_count": null,
   "id": "2dc372b2",
   "metadata": {
    "deletable": false,
    "id": "2dc372b2",
    "outputId": "81f4d817-781c-465c-ed15-91ce4446810d"
   },
   "outputs": [],
   "source": [
    "data.isna().sum()"
   ]
  },
  {
   "cell_type": "markdown",
   "id": "14f011b1",
   "metadata": {
    "deletable": false,
    "editable": false,
    "id": "14f011b1"
   },
   "source": [
    "**Задание 5. В двух столбцах есть пропущенные значения. Один из них — `days_employed`. Пропуски в этом столбце вы обработаете на следующем этапе. Другой столбец с пропущенными значениями — `total_income` — хранит данные о доходах. На сумму дохода сильнее всего влияет тип занятости, поэтому заполнить пропуски в этом столбце нужно медианным значением по каждому типу из столбца `income_type`. Например, у человека с типом занятости `сотрудник` пропуск в столбце `total_income` должен быть заполнен медианным доходом среди всех записей с тем же типом.**"
   ]
  },
  {
   "cell_type": "code",
   "execution_count": null,
   "id": "bdabfb6e",
   "metadata": {
    "deletable": false,
    "id": "bdabfb6e"
   },
   "outputs": [],
   "source": [
    "for t in data['income_type'].unique():\n",
    "    data.loc[(data['income_type'] == t) & (data['total_income'].isna()), 'total_income'] = \\\n",
    "    data.loc[(data['income_type'] == t), 'total_income'].median()"
   ]
  },
  {
   "cell_type": "markdown",
   "id": "5be34059",
   "metadata": {
    "deletable": false,
    "editable": false,
    "id": "5be34059"
   },
   "source": [
    "### Обработка аномальных значений"
   ]
  },
  {
   "cell_type": "markdown",
   "id": "a87606cb",
   "metadata": {
    "deletable": false,
    "editable": false,
    "id": "a87606cb"
   },
   "source": [
    "**Задание 6. В данных могут встречаться артефакты (аномалии) — значения, которые не отражают действительность и появились по какой-то ошибке. таким артефактом будет отрицательное количество дней трудового стажа в столбце `days_employed`. Для реальных данных это нормально. Обработайте значения в этом столбце: замените все отрицательные значения положительными с помощью метода `abs()`.**"
   ]
  },
  {
   "cell_type": "code",
   "execution_count": null,
   "id": "020c46cc",
   "metadata": {
    "deletable": false,
    "id": "020c46cc"
   },
   "outputs": [],
   "source": [
    "data['days_employed'] = data['days_employed'].abs()"
   ]
  },
  {
   "cell_type": "markdown",
   "id": "45538a3a",
   "metadata": {
    "deletable": false,
    "editable": false,
    "id": "45538a3a"
   },
   "source": [
    "**Задание 7. Для каждого типа занятости выведите медианное значение трудового стажа `days_employed` в днях.**"
   ]
  },
  {
   "cell_type": "code",
   "execution_count": null,
   "id": "cd3e6328",
   "metadata": {
    "deletable": false,
    "id": "cd3e6328",
    "outputId": "801ef80e-522b-4668-f34e-565af7432bcf"
   },
   "outputs": [],
   "source": [
    "data.groupby('income_type')['days_employed'].agg('median')"
   ]
  },
  {
   "cell_type": "markdown",
   "id": "90c5f058",
   "metadata": {
    "deletable": false,
    "editable": false,
    "id": "90c5f058"
   },
   "source": [
    "У двух типов (безработные и пенсионеры) получатся аномально большие значения. Исправить такие значения сложно, поэтому оставьте их как есть."
   ]
  },
  {
   "cell_type": "markdown",
   "id": "9652e50d",
   "metadata": {
    "deletable": false,
    "editable": false,
    "id": "9652e50d"
   },
   "source": [
    "**Задание 8. Выведите перечень уникальных значений столбца `children`.**"
   ]
  },
  {
   "cell_type": "code",
   "execution_count": null,
   "id": "dbb37b8e",
   "metadata": {
    "deletable": false,
    "id": "dbb37b8e",
    "outputId": "6975b15c-7f95-4697-d16d-a0c79b657b03"
   },
   "outputs": [],
   "source": [
    "data['children'].unique()"
   ]
  },
  {
   "cell_type": "markdown",
   "id": "2b8b0715",
   "metadata": {
    "deletable": false,
    "editable": false,
    "id": "2b8b0715"
   },
   "source": [
    "**Задание 9. В столбце `children` есть два аномальных значения. Удалите строки, в которых встречаются такие аномальные значения из датафрейма `data`.**"
   ]
  },
  {
   "cell_type": "code",
   "execution_count": null,
   "id": "20009df8",
   "metadata": {
    "deletable": false,
    "id": "20009df8"
   },
   "outputs": [],
   "source": [
    "data = data[(data['children'] != -1) & (data['children'] != 20)]"
   ]
  },
  {
   "cell_type": "markdown",
   "id": "8c6ac9f1",
   "metadata": {
    "deletable": false,
    "editable": false,
    "id": "8c6ac9f1"
   },
   "source": [
    "**Задание 10. Ещё раз выведите перечень уникальных значений столбца `children`, чтобы убедиться, что артефакты удалены.**"
   ]
  },
  {
   "cell_type": "code",
   "execution_count": null,
   "id": "07337b81",
   "metadata": {
    "deletable": false,
    "id": "07337b81",
    "outputId": "b2097101-d49d-44d9-901b-32a65c9463d1"
   },
   "outputs": [],
   "source": [
    "data['children'].unique()"
   ]
  },
  {
   "cell_type": "markdown",
   "id": "ee3f52d4",
   "metadata": {
    "deletable": false,
    "editable": false,
    "id": "ee3f52d4"
   },
   "source": [
    "### Удаление пропусков (продолжение)"
   ]
  },
  {
   "cell_type": "markdown",
   "id": "a700b0e4",
   "metadata": {
    "deletable": false,
    "editable": false,
    "id": "a700b0e4"
   },
   "source": [
    "**Задание 11. Заполните пропуски в столбце `days_employed` медианными значениями по каждого типа занятости `income_type`.**"
   ]
  },
  {
   "cell_type": "code",
   "execution_count": null,
   "id": "61946b83",
   "metadata": {
    "deletable": false,
    "id": "61946b83"
   },
   "outputs": [],
   "source": [
    "for t in data['income_type'].unique():\n",
    "    data.loc[(data['income_type'] == t) & (data['days_employed'].isna()), 'days_employed'] = \\\n",
    "    data.loc[(data['income_type'] == t), 'days_employed'].median()"
   ]
  },
  {
   "cell_type": "markdown",
   "id": "550dcd9b",
   "metadata": {
    "deletable": false,
    "editable": false,
    "id": "550dcd9b"
   },
   "source": [
    "**Задание 12. Убедитесь, что все пропуски заполнены. Проверьте себя и ещё раз выведите количество пропущенных значений для каждого столбца с помощью двух методов.**"
   ]
  },
  {
   "cell_type": "code",
   "execution_count": null,
   "id": "937c7014",
   "metadata": {
    "deletable": false,
    "id": "937c7014",
    "outputId": "8da1e4e1-358e-4e87-98c9-f261bce0a7b2"
   },
   "outputs": [],
   "source": [
    "data.isna().sum()"
   ]
  },
  {
   "cell_type": "markdown",
   "id": "d522e295",
   "metadata": {
    "deletable": false,
    "editable": false,
    "id": "d522e295"
   },
   "source": [
    "### Изменение типов данных"
   ]
  },
  {
   "cell_type": "markdown",
   "id": "c229c581",
   "metadata": {
    "deletable": false,
    "editable": false,
    "id": "c229c581"
   },
   "source": [
    "**Задание 13. Замените вещественный тип данных в столбце `total_income` на целочисленный с помощью метода `astype()`.**"
   ]
  },
  {
   "cell_type": "code",
   "execution_count": null,
   "id": "31036462",
   "metadata": {
    "deletable": false,
    "id": "31036462"
   },
   "outputs": [],
   "source": [
    "data['total_income'] = data['total_income'].astype(int)"
   ]
  },
  {
   "cell_type": "markdown",
   "id": "b8e3d1d9",
   "metadata": {
    "deletable": false,
    "editable": false,
    "id": "b8e3d1d9"
   },
   "source": [
    "### Обработка дубликатов"
   ]
  },
  {
   "cell_type": "markdown",
   "id": "9be53c49",
   "metadata": {
    "deletable": false,
    "editable": false,
    "id": "9be53c49"
   },
   "source": [
    "**Задание 14. Обработайте неявные дубликаты в столбце `education`. В этом столбце есть одни и те же значения, но записанные по-разному: с использованием заглавных и строчных букв. Приведите их к нижнему регистру.**"
   ]
  },
  {
   "cell_type": "code",
   "execution_count": null,
   "id": "d89e73e1",
   "metadata": {
    "deletable": false,
    "id": "d89e73e1"
   },
   "outputs": [],
   "source": [
    "data['education'] = data['education'].str.lower()"
   ]
  },
  {
   "cell_type": "markdown",
   "id": "01d4500e",
   "metadata": {
    "deletable": false,
    "editable": false,
    "id": "01d4500e"
   },
   "source": [
    "**Задание 15. Выведите на экран количество строк-дубликатов в данных. Если такие строки присутствуют, удалите их.**"
   ]
  },
  {
   "cell_type": "code",
   "execution_count": null,
   "id": "e10efb23",
   "metadata": {
    "deletable": false,
    "id": "e10efb23",
    "outputId": "9684deba-1934-42d1-99e1-cda61740f822"
   },
   "outputs": [],
   "source": [
    "data.duplicated().sum()"
   ]
  },
  {
   "cell_type": "code",
   "execution_count": null,
   "id": "df853f20",
   "metadata": {
    "deletable": false,
    "id": "df853f20"
   },
   "outputs": [],
   "source": [
    "data = data.drop_duplicates()"
   ]
  },
  {
   "cell_type": "markdown",
   "id": "627be38f",
   "metadata": {
    "deletable": false,
    "editable": false,
    "id": "627be38f"
   },
   "source": [
    "### Категоризация данных"
   ]
  },
  {
   "cell_type": "markdown",
   "id": "4684c3e0",
   "metadata": {
    "deletable": false,
    "editable": false,
    "id": "4684c3e0"
   },
   "source": [
    "**Задание 16. На основании диапазонов, указанных ниже, создайте в датафрейме `data` столбец `total_income_category` с категориями:**\n",
    "\n",
    "- 0–30000 — `'E'`;\n",
    "- 30001–50000 — `'D'`;\n",
    "- 50001–200000 — `'C'`;\n",
    "- 200001–1000000 — `'B'`;\n",
    "- 1000001 и выше — `'A'`.\n",
    "\n",
    "\n",
    "**Например, кредитополучателю с доходом 25000 нужно назначить категорию `'E'`, а клиенту, получающему 235000, — `'B'`. Используйте собственную функцию с именем `categorize_income()` и метод `apply()`.**"
   ]
  },
  {
   "cell_type": "code",
   "execution_count": null,
   "id": "78965238",
   "metadata": {
    "deletable": false,
    "id": "78965238"
   },
   "outputs": [],
   "source": [
    "def categorize_income(income):\n",
    "    try:\n",
    "        if 0 <= income <= 30000:\n",
    "            return 'E'\n",
    "        elif 30001 <= income <= 50000:\n",
    "            return 'D'\n",
    "        elif 50001 <= income <= 200000:\n",
    "            return 'C'\n",
    "        elif 200001 <= income <= 1000000:\n",
    "            return 'B'\n",
    "        elif income >= 1000001:\n",
    "            return 'A'\n",
    "    except:\n",
    "        pass"
   ]
  },
  {
   "cell_type": "code",
   "execution_count": null,
   "id": "0980ada1",
   "metadata": {
    "deletable": false,
    "id": "0980ada1"
   },
   "outputs": [],
   "source": [
    "data['total_income_category'] = data['total_income'].apply(categorize_income)"
   ]
  },
  {
   "cell_type": "markdown",
   "id": "9917bba0",
   "metadata": {
    "deletable": false,
    "editable": false,
    "id": "9917bba0"
   },
   "source": [
    "**Задание 17. Выведите на экран перечень уникальных целей взятия кредита из столбца `purpose`.**"
   ]
  },
  {
   "cell_type": "code",
   "execution_count": null,
   "id": "ee07b65e",
   "metadata": {
    "deletable": false,
    "id": "ee07b65e",
    "outputId": "673c12d9-7d7e-4ae0-9812-c622c89dd244"
   },
   "outputs": [],
   "source": [
    "data['purpose'].unique()"
   ]
  },
  {
   "cell_type": "markdown",
   "id": "52b79d56",
   "metadata": {
    "deletable": false,
    "editable": false,
    "id": "52b79d56"
   },
   "source": [
    "**Задание 18. Создайте функцию, которая на основании данных из столбца `purpose` сформирует новый столбец `purpose_category`, в который войдут следующие категории:**\n",
    "\n",
    "- `'операции с автомобилем'`,\n",
    "- `'операции с недвижимостью'`,\n",
    "- `'проведение свадьбы'`,\n",
    "- `'получение образования'`.\n",
    "\n",
    "**Например, если в столбце `purpose` находится подстрока `'на покупку автомобиля'`, то в столбце `purpose_category` должна появиться строка `'операции с автомобилем'`.**\n",
    "\n",
    "**Используйте собственную функцию с именем `categorize_purpose()` и метод `apply()`. Изучите данные в столбце `purpose` и определите, какие подстроки помогут вам правильно определить категорию.**"
   ]
  },
  {
   "cell_type": "code",
   "execution_count": null,
   "id": "be41da5d",
   "metadata": {
    "deletable": false,
    "id": "be41da5d"
   },
   "outputs": [],
   "source": [
    "def categorize_purpose(row):\n",
    "    try:\n",
    "        if 'автом' in row:\n",
    "            return 'операции с автомобилем'\n",
    "        elif 'жил' in row or 'недвиж' in row:\n",
    "            return 'операции с недвижимостью'\n",
    "        elif 'свад' in row:\n",
    "            return 'проведение свадьбы'\n",
    "        elif 'образов' in row:\n",
    "            return 'получение образования'\n",
    "    except:\n",
    "        return 'нет категории'"
   ]
  },
  {
   "cell_type": "code",
   "execution_count": null,
   "id": "94c4a19a",
   "metadata": {
    "deletable": false,
    "id": "94c4a19a"
   },
   "outputs": [],
   "source": [
    "data['purpose_category'] = data['purpose'].apply(categorize_purpose)"
   ]
  },
  {
   "cell_type": "markdown",
   "id": "3d596c34",
   "metadata": {
    "deletable": false,
    "editable": false,
    "id": "3d596c34"
   },
   "source": [
    "### Шаг 3. Исследуйте данные и ответьте на вопросы"
   ]
  },
  {
   "cell_type": "markdown",
   "id": "648db036",
   "metadata": {
    "deletable": false,
    "editable": false,
    "id": "648db036"
   },
   "source": [
    "#### 3.1 Есть ли зависимость между количеством детей и возвратом кредита в срок?"
   ]
  },
  {
   "cell_type": "code",
   "execution_count": null,
   "id": "def2de24",
   "metadata": {},
   "outputs": [],
   "source": [
    "data.pivot_table(index = 'children', values = 'debt', aggfunc = ['count', 'sum', 'mean'])\\\n",
    "    .sort_values(by = ('mean', 'debt'), ascending = False)\\\n",
    "    .style.format({('mean', 'debt') : '{:.2%}'})"
   ]
  },
  {
   "cell_type": "code",
   "execution_count": null,
   "id": "7fcff25e",
   "metadata": {
    "deletable": false,
    "id": "7fcff25e"
   },
   "outputs": [],
   "source": [
    "def categorize_children(children):\n",
    "    if children > 0:\n",
    "        return 'C детьми'\n",
    "    if children == 0:\n",
    "        return 'Без детей'\n",
    "\n",
    "data['have_children'] = data['children'].apply(categorize_children)\n",
    "\n",
    "data.groupby('have_children')['debt'].sum() / data.groupby('have_children')['debt'].count()"
   ]
  },
  {
   "cell_type": "markdown",
   "id": "2eb9088e",
   "metadata": {
    "deletable": false,
    "id": "2eb9088e"
   },
   "source": [
    "**Вывод:** "
   ]
  },
  {
   "cell_type": "markdown",
   "id": "8238520a",
   "metadata": {},
   "source": [
    "У заемщиков с детьми больше просрочек выплат. Больше всего просрочек в семьях, где 4 ребенка. \n",
    "При этом в семьях, где 5 детей просрочек нет. Но делать выводы на основе этих данных не корректно, т.к. таких семей мало."
   ]
  },
  {
   "cell_type": "markdown",
   "id": "74c9b3a7",
   "metadata": {
    "deletable": false,
    "editable": false,
    "id": "74c9b3a7"
   },
   "source": [
    "#### 3.2 Есть ли зависимость между семейным положением и возвратом кредита в срок?"
   ]
  },
  {
   "cell_type": "code",
   "execution_count": null,
   "id": "8098ab3b",
   "metadata": {
    "deletable": false,
    "id": "8098ab3b"
   },
   "outputs": [],
   "source": [
    "def categorize_family_status(family_status):\n",
    "    if 'женат' in family_status:\n",
    "        return 'В браке'\n",
    "    return 'Холост/Не замужем'\n",
    "\n",
    "data['family_status_catecory'] = data['family_status'].apply(categorize_family_status)\n",
    "\n",
    "data.groupby('family_status_catecory')['debt'].sum() / data.groupby('family_status_catecory')['debt'].count()"
   ]
  },
  {
   "cell_type": "markdown",
   "id": "c389ca63",
   "metadata": {
    "deletable": false,
    "id": "c389ca63"
   },
   "source": [
    "**Вывод:** "
   ]
  },
  {
   "cell_type": "markdown",
   "id": "104e70c4",
   "metadata": {},
   "source": [
    "У людей, состоящих в браке, меньше просрочек."
   ]
  },
  {
   "cell_type": "markdown",
   "id": "9529de68",
   "metadata": {
    "deletable": false,
    "editable": false,
    "id": "9529de68"
   },
   "source": [
    "#### 3.3 Есть ли зависимость между уровнем дохода и возвратом кредита в срок?"
   ]
  },
  {
   "cell_type": "code",
   "execution_count": null,
   "id": "ffa180d7",
   "metadata": {},
   "outputs": [],
   "source": [
    "data.pivot_table(index = 'total_income_category', values = 'debt', aggfunc = ['count', 'sum', 'mean'])\\\n",
    "    .sort_values(by = ('mean', 'debt'), ascending = False)\\\n",
    "    .style.format({('mean', 'debt') : '{:.2%}'})"
   ]
  },
  {
   "cell_type": "code",
   "execution_count": null,
   "id": "8787f44a",
   "metadata": {
    "deletable": false,
    "id": "8787f44a"
   },
   "outputs": [],
   "source": [
    "data.groupby('total_income_category')['debt'].sum() / data.groupby('total_income_category')['debt'].count()"
   ]
  },
  {
   "cell_type": "markdown",
   "id": "6dd14b57",
   "metadata": {
    "deletable": false,
    "id": "6dd14b57"
   },
   "source": [
    "**Вывод:** "
   ]
  },
  {
   "cell_type": "markdown",
   "id": "daf1d5ec",
   "metadata": {},
   "source": [
    "Больше всего просрочек у клиентов с низким доходом из категории E (до 30 000) и доходом из категории С (от 50 001 до 200 000). \n",
    "Меньше всего просрочек у клиентов из категории D (от 30 001 до 50 000)."
   ]
  },
  {
   "cell_type": "markdown",
   "id": "f0c2e918",
   "metadata": {},
   "source": [
    "Самые многочисленные группы B (от 200 001 до 1 000 000) и C (от 50 001 до 200 000). \n",
    "В группе В, с доходом выше среднего, процент просрочек низкий (ниже среднего). \n",
    "Эту группу можно реклмендовать для кредитования.\n",
    "\n",
    "В группе C, со средним доходом, процент просрочек высокий (выше среднего). \n",
    "При выдаче кредита можно порекомендовать учитывать этот фактор как негативный при принятии решения."
   ]
  },
  {
   "cell_type": "markdown",
   "id": "1dcc9b12",
   "metadata": {
    "deletable": false,
    "editable": false,
    "id": "1dcc9b12"
   },
   "source": [
    "#### 3.4 Как разные цели кредита влияют на его возврат в срок?"
   ]
  },
  {
   "cell_type": "code",
   "execution_count": null,
   "id": "c602bc8b",
   "metadata": {
    "deletable": false,
    "id": "c602bc8b"
   },
   "outputs": [],
   "source": [
    "data.groupby('purpose_category')['debt'].sum() / data.groupby('purpose_category')['debt'].count()"
   ]
  },
  {
   "cell_type": "markdown",
   "id": "cf05ed63",
   "metadata": {
    "deletable": false,
    "id": "cf05ed63"
   },
   "source": [
    "**Вывод:** "
   ]
  },
  {
   "cell_type": "markdown",
   "id": "0b16f700",
   "metadata": {},
   "source": [
    "Клиенты, которые берут кредиты на автомобиль или образование чаще совершают просрочки. \n",
    "Реже допускают просрочки по кредитам на недвижимость и свадьбу."
   ]
  },
  {
   "cell_type": "markdown",
   "id": "46c1f10b",
   "metadata": {
    "deletable": false,
    "editable": false,
    "id": "46c1f10b"
   },
   "source": [
    "#### 3.5 Приведите возможные причины появления пропусков в исходных данных."
   ]
  },
  {
   "cell_type": "markdown",
   "id": "3697d2a9",
   "metadata": {
    "deletable": false,
    "id": "3697d2a9"
   },
   "source": [
    "*Ответ:* "
   ]
  },
  {
   "cell_type": "markdown",
   "id": "7ca695fd",
   "metadata": {},
   "source": [
    "Это может быть ошибка переноса данных или заполнения анкет."
   ]
  },
  {
   "cell_type": "markdown",
   "id": "3137d257",
   "metadata": {
    "deletable": false,
    "editable": false,
    "id": "3137d257"
   },
   "source": [
    "#### 3.6 Объясните, почему заполнить пропуски медианным значением — лучшее решение для количественных переменных."
   ]
  },
  {
   "cell_type": "markdown",
   "id": "cf40012a",
   "metadata": {
    "deletable": false,
    "id": "cf40012a"
   },
   "source": [
    "*Ответ:* "
   ]
  },
  {
   "cell_type": "markdown",
   "id": "f5685035",
   "metadata": {},
   "source": [
    "Медианное значение свидет к минимому дальнейшие погрешности в расчетах. \n",
    "Это важно, когда мы будет выполнять операции деления с этими данными, чтобы не было деления на ноль. \n",
    "Также, когда мы знаем, что показатель не может быть \"0\", а отсутствующие значения могут исказить выводы. \n",
    "Логичнее заполнить их средним значением, т.к. оно не будет кардинально влиять на выводы."
   ]
  },
  {
   "cell_type": "markdown",
   "id": "57bc304e",
   "metadata": {
    "deletable": false,
    "editable": false,
    "id": "57bc304e"
   },
   "source": [
    "### Шаг 4: общий вывод."
   ]
  },
  {
   "cell_type": "markdown",
   "id": "41bd79dc",
   "metadata": {},
   "source": [
    "При выполнении проекта были обработаны и проанализированы социально-демографические данные по клиентам банка,\n",
    "которые пользовались услугами кредитования.\n",
    "\n",
    "На основе выборки проанализированы зависимости:\n",
    "\n",
    "1. Семейное положение и просрочки по кредиту\n",
    "\n",
    "    ##### Метод: ##### \n",
    "    разделила всех заемщиков на 2 группы:\n",
    "    * \"В браке\" для тех, у кото статус \"женат / замужем\"\n",
    "    * \"Холост/Не замужем\" для всех остальных групп. Подготовила таблицу с указанием семейного статуса и процента по просрочке кредита в этих группах.\n",
    "    ###### Вывод: ##### \n",
    "    у людей, состоящих в браке, меньше просрочек.\n",
    "    \n",
    "2. Наличие или отсутствие детей и просрочки по кредиту\n",
    "\n",
    "    ##### Метод: ##### \n",
    "    После очистки данных от статистических выбросов подготовила таблицу с категориями заемщиков, \n",
    "    у которых есть от 1 до 5 детей и бездетными, и процентами по просрочке кредита.\n",
    "    ###### Вывод: ##### \n",
    "    У заемщиков с детьми больше просрочек выплат. Больше всего просрочек в семьях, где 4 ребенка. \n",
    "    \n",
    "3. Уровень дохода и просрочки по кредиту\n",
    "\n",
    "    ##### Метод: ##### \n",
    "    Привела данные к единообразию для корректной обработки, использовав медианные значения в случаях \n",
    "    с пропущенными данными. \n",
    "    Размеры доход для удобства обработки разбила на 5 категорий, присвоив им индексы A-E. \n",
    "    Подготовила таблицу по категориям дохода и процентом просрочек. \n",
    "    ###### Вывод: ##### \n",
    "    Больше всего просрочек у клиентов с низким доходом из категории E (до 30 000) \n",
    "    и доходом из категории С (от 50 001 до 200 000). \n",
    "    Меньше всего просрочек у клиентов из категории D (от 30 001 до 50 000).\n",
    "\n",
    "4. Цель кредита и возможность просрочки\n",
    "\n",
    "    ##### Метод: ##### \n",
    "    Многочисленные цели кредита агрегировала в 4 раздела по смыслу. \n",
    "    Подготовила таблицу с данными по базовой цели кредитования и процентом просрочек.  \n",
    "    ###### Вывод: ##### \n",
    "    Клиенты, которые берут кредиты на автомобиль или образование чаще совершают просрочки. \n",
    "    Реже допускают просрочки по кредитам на недвижимость и свадьбу.\n",
    "    \n",
    "#### Для выдачи кредитов можно порекомендовать выдавать их: \n",
    "\n",
    "1. Людям, состоящим в браке \n",
    "2. Людям без детей \n",
    "3. Людям с доходом из категории D (от 30 001 до 50 000) \n",
    "4. Цели кредита \"операции с недвижимостью\" и \"проведение свадьбы\" предпочтительные. \n",
    "\n",
    "Также всем этим группам можно предлагать кредит или предодобрить его, если они являются клиентами банка, но не подавали заявку на кредит."
   ]
  },
  {
   "cell_type": "markdown",
   "id": "1ab75d1c",
   "metadata": {
    "deletable": false,
    "id": "1ab75d1c"
   },
   "source": [
    "FIN"
   ]
  }
 ],
 "metadata": {
  "ExecuteTimeLog": [
   {
    "duration": 57,
    "start_time": "2023-01-26T15:29:09.680Z"
   },
   {
    "duration": 7,
    "start_time": "2023-01-26T15:29:24.837Z"
   },
   {
    "duration": 6,
    "start_time": "2023-01-26T15:30:21.812Z"
   },
   {
    "duration": 9,
    "start_time": "2023-01-26T15:40:34.231Z"
   },
   {
    "duration": 528,
    "start_time": "2023-01-26T15:40:51.837Z"
   },
   {
    "duration": 22,
    "start_time": "2023-01-26T15:40:52.367Z"
   },
   {
    "duration": 15,
    "start_time": "2023-01-26T15:40:52.391Z"
   },
   {
    "duration": 10,
    "start_time": "2023-01-26T15:40:52.408Z"
   },
   {
    "duration": 52,
    "start_time": "2023-01-26T15:40:52.420Z"
   },
   {
    "duration": 4,
    "start_time": "2023-01-26T15:40:52.473Z"
   },
   {
    "duration": 21,
    "start_time": "2023-01-26T15:40:52.478Z"
   },
   {
    "duration": 10,
    "start_time": "2023-01-26T15:40:52.501Z"
   },
   {
    "duration": 9,
    "start_time": "2023-01-26T15:40:52.512Z"
   },
   {
    "duration": 4,
    "start_time": "2023-01-26T15:40:52.524Z"
   },
   {
    "duration": 50,
    "start_time": "2023-01-26T15:40:52.530Z"
   },
   {
    "duration": 10,
    "start_time": "2023-01-26T15:40:52.582Z"
   },
   {
    "duration": 4,
    "start_time": "2023-01-26T15:40:52.593Z"
   },
   {
    "duration": 16,
    "start_time": "2023-01-26T15:40:52.598Z"
   },
   {
    "duration": 22,
    "start_time": "2023-01-26T15:40:52.616Z"
   },
   {
    "duration": 19,
    "start_time": "2023-01-26T15:40:52.652Z"
   },
   {
    "duration": 3,
    "start_time": "2023-01-26T15:40:52.673Z"
   },
   {
    "duration": 22,
    "start_time": "2023-01-26T15:40:52.678Z"
   },
   {
    "duration": 15,
    "start_time": "2023-01-26T15:40:52.702Z"
   },
   {
    "duration": 5,
    "start_time": "2023-01-26T15:40:52.720Z"
   },
   {
    "duration": 27,
    "start_time": "2023-01-26T15:40:52.727Z"
   },
   {
    "duration": 10,
    "start_time": "2023-01-26T15:40:52.756Z"
   },
   {
    "duration": 7,
    "start_time": "2023-01-26T15:40:52.768Z"
   },
   {
    "duration": 7,
    "start_time": "2023-01-26T15:40:52.777Z"
   },
   {
    "duration": 5,
    "start_time": "2023-01-26T15:40:52.786Z"
   },
   {
    "duration": 16,
    "start_time": "2023-01-26T15:42:08.935Z"
   },
   {
    "duration": 40,
    "start_time": "2023-01-26T15:54:04.604Z"
   },
   {
    "duration": 17,
    "start_time": "2023-01-26T15:55:04.910Z"
   },
   {
    "duration": 10,
    "start_time": "2023-01-26T16:06:48.978Z"
   },
   {
    "duration": 12,
    "start_time": "2023-01-26T16:15:42.169Z"
   },
   {
    "duration": 48,
    "start_time": "2023-01-27T13:07:39.336Z"
   },
   {
    "duration": 7,
    "start_time": "2023-01-27T13:08:03.900Z"
   },
   {
    "duration": 684,
    "start_time": "2023-01-27T13:08:10.257Z"
   },
   {
    "duration": 21,
    "start_time": "2023-01-27T13:08:10.943Z"
   },
   {
    "duration": 14,
    "start_time": "2023-01-27T13:08:10.965Z"
   },
   {
    "duration": 10,
    "start_time": "2023-01-27T13:08:10.981Z"
   },
   {
    "duration": 34,
    "start_time": "2023-01-27T13:08:10.992Z"
   },
   {
    "duration": 21,
    "start_time": "2023-01-27T13:08:11.027Z"
   },
   {
    "duration": 7,
    "start_time": "2023-01-27T13:08:11.049Z"
   },
   {
    "duration": 6,
    "start_time": "2023-01-27T13:08:11.058Z"
   },
   {
    "duration": 13,
    "start_time": "2023-01-27T13:08:11.066Z"
   },
   {
    "duration": 5,
    "start_time": "2023-01-27T13:08:11.081Z"
   },
   {
    "duration": 35,
    "start_time": "2023-01-27T13:08:11.087Z"
   },
   {
    "duration": 24,
    "start_time": "2023-01-27T13:08:11.124Z"
   },
   {
    "duration": 3,
    "start_time": "2023-01-27T13:08:11.150Z"
   },
   {
    "duration": 12,
    "start_time": "2023-01-27T13:08:11.154Z"
   },
   {
    "duration": 19,
    "start_time": "2023-01-27T13:08:11.168Z"
   },
   {
    "duration": 17,
    "start_time": "2023-01-27T13:08:11.188Z"
   },
   {
    "duration": 4,
    "start_time": "2023-01-27T13:08:11.206Z"
   },
   {
    "duration": 37,
    "start_time": "2023-01-27T13:08:11.211Z"
   },
   {
    "duration": 5,
    "start_time": "2023-01-27T13:08:11.250Z"
   },
   {
    "duration": 4,
    "start_time": "2023-01-27T13:08:11.256Z"
   },
   {
    "duration": 14,
    "start_time": "2023-01-27T13:08:11.261Z"
   },
   {
    "duration": 427,
    "start_time": "2023-01-27T13:08:11.277Z"
   },
   {
    "duration": 14,
    "start_time": "2023-01-27T13:08:11.705Z"
   },
   {
    "duration": 28,
    "start_time": "2023-01-27T13:08:11.721Z"
   },
   {
    "duration": 8,
    "start_time": "2023-01-27T13:08:11.750Z"
   },
   {
    "duration": 10,
    "start_time": "2023-01-27T13:08:11.759Z"
   },
   {
    "duration": 34,
    "start_time": "2023-01-27T13:41:05.131Z"
   },
   {
    "duration": 664,
    "start_time": "2023-01-27T15:38:07.895Z"
   },
   {
    "duration": 44,
    "start_time": "2023-01-27T15:38:08.561Z"
   },
   {
    "duration": 28,
    "start_time": "2023-01-27T15:38:08.607Z"
   },
   {
    "duration": 78,
    "start_time": "2023-01-27T15:38:08.637Z"
   },
   {
    "duration": 80,
    "start_time": "2023-01-27T15:38:08.717Z"
   },
   {
    "duration": 4,
    "start_time": "2023-01-27T15:38:08.799Z"
   },
   {
    "duration": 27,
    "start_time": "2023-01-27T15:38:08.805Z"
   },
   {
    "duration": 57,
    "start_time": "2023-01-27T15:38:08.833Z"
   },
   {
    "duration": 15,
    "start_time": "2023-01-27T15:38:08.892Z"
   },
   {
    "duration": 16,
    "start_time": "2023-01-27T15:38:08.908Z"
   },
   {
    "duration": 76,
    "start_time": "2023-01-27T15:38:08.926Z"
   },
   {
    "duration": 21,
    "start_time": "2023-01-27T15:38:09.005Z"
   },
   {
    "duration": 8,
    "start_time": "2023-01-27T15:38:09.028Z"
   },
   {
    "duration": 84,
    "start_time": "2023-01-27T15:38:09.038Z"
   },
   {
    "duration": 51,
    "start_time": "2023-01-27T15:38:09.123Z"
   },
   {
    "duration": 58,
    "start_time": "2023-01-27T15:38:09.176Z"
   },
   {
    "duration": 61,
    "start_time": "2023-01-27T15:38:09.236Z"
   },
   {
    "duration": 28,
    "start_time": "2023-01-27T15:38:09.298Z"
   },
   {
    "duration": 74,
    "start_time": "2023-01-27T15:38:09.328Z"
   },
   {
    "duration": 39,
    "start_time": "2023-01-27T15:38:09.404Z"
   },
   {
    "duration": 63,
    "start_time": "2023-01-27T15:38:09.446Z"
   },
   {
    "duration": 460,
    "start_time": "2023-01-27T15:38:09.511Z"
   },
   {
    "duration": 46,
    "start_time": "2023-01-27T15:38:09.973Z"
   },
   {
    "duration": 79,
    "start_time": "2023-01-27T15:38:10.022Z"
   },
   {
    "duration": 0,
    "start_time": "2023-01-27T15:38:10.103Z"
   },
   {
    "duration": 0,
    "start_time": "2023-01-27T15:38:10.104Z"
   },
   {
    "duration": 0,
    "start_time": "2023-01-27T15:38:10.105Z"
   },
   {
    "duration": 0,
    "start_time": "2023-01-27T15:38:10.106Z"
   },
   {
    "duration": 0,
    "start_time": "2023-01-27T15:38:10.107Z"
   },
   {
    "duration": 28,
    "start_time": "2023-01-27T15:38:19.362Z"
   },
   {
    "duration": 51,
    "start_time": "2023-01-27T15:38:20.132Z"
   },
   {
    "duration": 14,
    "start_time": "2023-01-27T15:38:20.275Z"
   }
  ],
  "colab": {
   "provenance": []
  },
  "kernelspec": {
   "display_name": "Python 3 (ipykernel)",
   "language": "python",
   "name": "python3"
  },
  "language_info": {
   "codemirror_mode": {
    "name": "ipython",
    "version": 3
   },
   "file_extension": ".py",
   "mimetype": "text/x-python",
   "name": "python",
   "nbconvert_exporter": "python",
   "pygments_lexer": "ipython3",
   "version": "3.11.0"
  },
  "toc": {
   "base_numbering": 1,
   "nav_menu": {},
   "number_sections": true,
   "sideBar": true,
   "skip_h1_title": true,
   "title_cell": "Table of Contents",
   "title_sidebar": "Contents",
   "toc_cell": false,
   "toc_position": {},
   "toc_section_display": true,
   "toc_window_display": true
  }
 },
 "nbformat": 4,
 "nbformat_minor": 5
}
